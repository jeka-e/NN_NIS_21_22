{
  "nbformat": 4,
  "nbformat_minor": 0,
  "metadata": {
    "accelerator": "GPU",
    "colab": {
      "name": "NN_hw1_Egorova.ipynb",
      "provenance": []
    },
    "kernelspec": {
      "display_name": "Python 3",
      "language": "python",
      "name": "python3"
    },
    "language_info": {
      "codemirror_mode": {
        "name": "ipython",
        "version": 3
      },
      "file_extension": ".py",
      "mimetype": "text/x-python",
      "name": "python",
      "nbconvert_exporter": "python",
      "pygments_lexer": "ipython3",
      "version": "3.7.3"
    }
  },
  "cells": [
    {
      "cell_type": "markdown",
      "metadata": {
        "id": "P8tDK5A9OCM7"
      },
      "source": [
        "## Домашняя работа №1 Part1\n",
        "Вам предстоит:\n",
        "\n",
        "Написать персептрон с двумя слоями. Реализовать форвард и бэквард пропогейшен\n",
        "\n"
      ]
    },
    {
      "cell_type": "code",
      "metadata": {
        "id": "c5IbKpsMN_F1"
      },
      "source": [
        "import numpy as np\n",
        "from sklearn.metrics import classification_report\n",
        "import torch\n",
        "from torch.utils.data import DataLoader\n",
        "from torchvision.datasets import MNIST\n",
        "from torchvision import transforms\n",
        "import matplotlib.pyplot as plt\n",
        "from tqdm import tqdm\n",
        "from sklearn.metrics import accuracy_score\n",
        "import time"
      ],
      "execution_count": null,
      "outputs": []
    },
    {
      "cell_type": "markdown",
      "metadata": {
        "id": "zQRYevLNN_GA"
      },
      "source": [
        "# Датасет\n",
        "Загрузим Мнист. Почему именно он? Мы будем решать задачу бинарной классификации на паре цифр: 3 и 7. Плюсы в том, что примеров для этих чисел достаточно, чтобы обучить НС, у каждого примера не так много фичей (28Х28 - размерность картинок) и, в целом, эти классы хорошо отделяются. Я б с радостью показал вам пример с текстами, но если писать НС с нуля и пытаться обучаться на текстах, не факт, что у нас хоть что то обучится :(  \n",
        "  "
      ]
    },
    {
      "cell_type": "markdown",
      "metadata": {
        "id": "EtMN4ZlSN_GC"
      },
      "source": [
        "Торч - объект, который позволяет нормализовать картинки, можно думать о нем как о предобработке (регулярках) для текстов. В целом не стоит здесь долго думать"
      ]
    },
    {
      "cell_type": "code",
      "metadata": {
        "id": "BMugicmkN_GE"
      },
      "source": [
        "transform = transforms.Compose([\n",
        "    transforms.ToTensor(),\n",
        "    transforms.Normalize((0.1307,), (0.3081,))\n",
        "])"
      ],
      "execution_count": null,
      "outputs": []
    },
    {
      "cell_type": "markdown",
      "metadata": {
        "id": "actIVoMKN_GJ"
      },
      "source": [
        "Загружаем датасет. Возращается особенный торчовый класс, чуть ниже мы зададим его сами и научимся им полльзоваться, пока оставляем эз из.\n"
      ]
    },
    {
      "cell_type": "code",
      "metadata": {
        "id": "fQpJqIWrN_GK"
      },
      "source": [
        "train_dataset = MNIST('.', train=True, download=True, transform=transform)\n",
        "test_dataset = MNIST('.', train=False, transform=transform)"
      ],
      "execution_count": null,
      "outputs": []
    },
    {
      "cell_type": "markdown",
      "metadata": {
        "id": "aUSUIJbUN_GQ"
      },
      "source": [
        "Выбираем два класса. Если вы достаточно хорошо знакомы с пандас, то можно понять, что никакой магии здесь нет."
      ]
    },
    {
      "cell_type": "code",
      "metadata": {
        "id": "vx73oHg9N_GS"
      },
      "source": [
        "#фильтруем фичи (дата) по значению классификационных лэйблов (таргет), берем или цифру 3 или цифру 7\n",
        "train_dataset.data = train_dataset.data[(train_dataset.targets == 3) | (train_dataset.targets == 7)]\n",
        "train_dataset.targets = train_dataset.targets[(train_dataset.targets == 3) | (train_dataset.targets == 7)]\n",
        "#тоже самое для тестового набора\n",
        "test_dataset.data = test_dataset.data[(test_dataset.targets == 3) | (test_dataset.targets == 7)]\n",
        "test_dataset.targets = test_dataset.targets[(test_dataset.targets == 3) | (test_dataset.targets == 7)]\n",
        "#необходимы препроцессинг лейблов, видимо не все значения имею тип integer, а нам нужен именно этот тип функция лонг позволяет нам \n",
        "#        это сделать (self.long() is equivalent to self.to(torch.int64). See to())\n",
        "train_dataset.targets = (train_dataset.targets == 7).long()\n",
        "test_dataset.targets = (test_dataset.targets == 7).long()"
      ],
      "execution_count": null,
      "outputs": []
    },
    {
      "cell_type": "markdown",
      "metadata": {
        "id": "RHelnPG0N_GX"
      },
      "source": [
        "Мы неоднократно говорили, что НС обычно тренируются бачами, в торче есть удобный класс, который позволяет обернуть наши датасеты в итерируемый объект. Если не знаете что такое итерируемый объект, погуглите :) можно думать об этом как о списке с составными элементами (элемент - батч - набор примеров) "
      ]
    },
    {
      "cell_type": "code",
      "metadata": {
        "id": "ENLomAueN_GZ"
      },
      "source": [
        "train_loader = DataLoader(train_dataset, batch_size=128, shuffle=True, drop_last=True)\n",
        "test_loader = DataLoader(test_dataset, batch_size=128, shuffle=False, drop_last=True)"
      ],
      "execution_count": null,
      "outputs": []
    },
    {
      "cell_type": "code",
      "metadata": {
        "id": "rdvq5scBXtWY",
        "colab": {
          "base_uri": "https://localhost:8080/"
        },
        "outputId": "57ae3e9c-e0c7-4010-b5cf-19e86beb7e64"
      },
      "source": [
        "X, y = next(iter(train_loader)) #next(iter(x) - Возвращает следующий элемент итератора.\n",
        "X"
      ],
      "execution_count": null,
      "outputs": [
        {
          "output_type": "execute_result",
          "data": {
            "text/plain": [
              "tensor([[[[-0.4242, -0.4242, -0.4242,  ..., -0.4242, -0.4242, -0.4242],\n",
              "          [-0.4242, -0.4242, -0.4242,  ..., -0.4242, -0.4242, -0.4242],\n",
              "          [-0.4242, -0.4242, -0.4242,  ..., -0.4242, -0.4242, -0.4242],\n",
              "          ...,\n",
              "          [-0.4242, -0.4242, -0.4242,  ..., -0.4242, -0.4242, -0.4242],\n",
              "          [-0.4242, -0.4242, -0.4242,  ..., -0.4242, -0.4242, -0.4242],\n",
              "          [-0.4242, -0.4242, -0.4242,  ..., -0.4242, -0.4242, -0.4242]]],\n",
              "\n",
              "\n",
              "        [[[-0.4242, -0.4242, -0.4242,  ..., -0.4242, -0.4242, -0.4242],\n",
              "          [-0.4242, -0.4242, -0.4242,  ..., -0.4242, -0.4242, -0.4242],\n",
              "          [-0.4242, -0.4242, -0.4242,  ..., -0.4242, -0.4242, -0.4242],\n",
              "          ...,\n",
              "          [-0.4242, -0.4242, -0.4242,  ..., -0.4242, -0.4242, -0.4242],\n",
              "          [-0.4242, -0.4242, -0.4242,  ..., -0.4242, -0.4242, -0.4242],\n",
              "          [-0.4242, -0.4242, -0.4242,  ..., -0.4242, -0.4242, -0.4242]]],\n",
              "\n",
              "\n",
              "        [[[-0.4242, -0.4242, -0.4242,  ..., -0.4242, -0.4242, -0.4242],\n",
              "          [-0.4242, -0.4242, -0.4242,  ..., -0.4242, -0.4242, -0.4242],\n",
              "          [-0.4242, -0.4242, -0.4242,  ..., -0.4242, -0.4242, -0.4242],\n",
              "          ...,\n",
              "          [-0.4242, -0.4242, -0.4242,  ..., -0.4242, -0.4242, -0.4242],\n",
              "          [-0.4242, -0.4242, -0.4242,  ..., -0.4242, -0.4242, -0.4242],\n",
              "          [-0.4242, -0.4242, -0.4242,  ..., -0.4242, -0.4242, -0.4242]]],\n",
              "\n",
              "\n",
              "        ...,\n",
              "\n",
              "\n",
              "        [[[-0.4242, -0.4242, -0.4242,  ..., -0.4242, -0.4242, -0.4242],\n",
              "          [-0.4242, -0.4242, -0.4242,  ..., -0.4242, -0.4242, -0.4242],\n",
              "          [-0.4242, -0.4242, -0.4242,  ..., -0.4242, -0.4242, -0.4242],\n",
              "          ...,\n",
              "          [-0.4242, -0.4242, -0.4242,  ..., -0.4242, -0.4242, -0.4242],\n",
              "          [-0.4242, -0.4242, -0.4242,  ..., -0.4242, -0.4242, -0.4242],\n",
              "          [-0.4242, -0.4242, -0.4242,  ..., -0.4242, -0.4242, -0.4242]]],\n",
              "\n",
              "\n",
              "        [[[-0.4242, -0.4242, -0.4242,  ..., -0.4242, -0.4242, -0.4242],\n",
              "          [-0.4242, -0.4242, -0.4242,  ..., -0.4242, -0.4242, -0.4242],\n",
              "          [-0.4242, -0.4242, -0.4242,  ..., -0.4242, -0.4242, -0.4242],\n",
              "          ...,\n",
              "          [-0.4242, -0.4242, -0.4242,  ..., -0.4242, -0.4242, -0.4242],\n",
              "          [-0.4242, -0.4242, -0.4242,  ..., -0.4242, -0.4242, -0.4242],\n",
              "          [-0.4242, -0.4242, -0.4242,  ..., -0.4242, -0.4242, -0.4242]]],\n",
              "\n",
              "\n",
              "        [[[-0.4242, -0.4242, -0.4242,  ..., -0.4242, -0.4242, -0.4242],\n",
              "          [-0.4242, -0.4242, -0.4242,  ..., -0.4242, -0.4242, -0.4242],\n",
              "          [-0.4242, -0.4242, -0.4242,  ..., -0.4242, -0.4242, -0.4242],\n",
              "          ...,\n",
              "          [-0.4242, -0.4242, -0.4242,  ..., -0.4242, -0.4242, -0.4242],\n",
              "          [-0.4242, -0.4242, -0.4242,  ..., -0.4242, -0.4242, -0.4242],\n",
              "          [-0.4242, -0.4242, -0.4242,  ..., -0.4242, -0.4242, -0.4242]]]])"
            ]
          },
          "metadata": {},
          "execution_count": 114
        }
      ]
    },
    {
      "cell_type": "code",
      "metadata": {
        "id": "SAaI0uHWYUrb",
        "colab": {
          "base_uri": "https://localhost:8080/"
        },
        "outputId": "9f2166e6-5b51-4c64-cb93-820f85bed810"
      },
      "source": [
        "y"
      ],
      "execution_count": null,
      "outputs": [
        {
          "output_type": "execute_result",
          "data": {
            "text/plain": [
              "tensor([1, 0, 1, 0, 0, 1, 1, 0, 1, 1, 1, 1, 1, 1, 0, 0, 1, 0, 1, 1, 0, 0, 0, 1,\n",
              "        1, 1, 1, 1, 1, 1, 1, 1, 1, 0, 0, 1, 1, 0, 0, 0, 1, 0, 1, 0, 1, 0, 1, 0,\n",
              "        1, 0, 1, 1, 1, 0, 0, 0, 0, 0, 0, 1, 0, 0, 0, 1, 0, 0, 1, 1, 1, 0, 0, 0,\n",
              "        0, 0, 0, 1, 0, 0, 0, 0, 0, 0, 0, 1, 1, 0, 1, 1, 1, 0, 0, 0, 1, 0, 1, 1,\n",
              "        0, 1, 0, 0, 1, 1, 0, 1, 0, 0, 0, 0, 0, 0, 0, 1, 0, 0, 1, 1, 1, 0, 1, 0,\n",
              "        1, 1, 0, 0, 1, 1, 0, 0])"
            ]
          },
          "metadata": {},
          "execution_count": 115
        }
      ]
    },
    {
      "cell_type": "markdown",
      "metadata": {
        "id": "KPw6jv5hYXhV"
      },
      "source": [
        "Никакой магии, просто многомерные матрицы. Можно даже проверить, что то, что мы получили, то есть первый батч имееет правильную размерность.В y - 1 это класс цифры \"7\", 0 - \"3\""
      ]
    },
    {
      "cell_type": "code",
      "metadata": {
        "id": "mQH1_6dSYlnW",
        "colab": {
          "base_uri": "https://localhost:8080/"
        },
        "outputId": "3e2280ff-c398-4090-bb92-9a5c6eebeab3"
      },
      "source": [
        "X.shape #128 - примеров, [1, 28, 28] - размерность картинки, 1 - значит что из трех каналов (Р, Г, Б) у нас всего один, а сама картинка 28 на 28"
      ],
      "execution_count": null,
      "outputs": [
        {
          "output_type": "execute_result",
          "data": {
            "text/plain": [
              "torch.Size([128, 1, 28, 28])"
            ]
          },
          "metadata": {},
          "execution_count": 116
        }
      ]
    },
    {
      "cell_type": "code",
      "metadata": {
        "id": "yGAYt4oqYpW5",
        "colab": {
          "base_uri": "https://localhost:8080/"
        },
        "outputId": "294f227a-75dd-4dd4-e2bc-db3ec1cc99f6"
      },
      "source": [
        "y.shape"
      ],
      "execution_count": null,
      "outputs": [
        {
          "output_type": "execute_result",
          "data": {
            "text/plain": [
              "torch.Size([128])"
            ]
          },
          "metadata": {},
          "execution_count": 117
        }
      ]
    },
    {
      "cell_type": "markdown",
      "metadata": {
        "id": "CNVEJYNXN_Gd"
      },
      "source": [
        "Проверим, правда ли это картинки"
      ]
    },
    {
      "cell_type": "code",
      "metadata": {
        "id": "-Kkv2jAKN_Ge",
        "colab": {
          "base_uri": "https://localhost:8080/",
          "height": 420
        },
        "outputId": "686ea183-d935-4ec3-e8ad-7ba7b2cba425"
      },
      "source": [
        "X, y = next(iter(train_loader))\n",
        "X = X.numpy() # перевод тензора в массив нумпай, просто изменение типа данных \n",
        "y = y.numpy()\n",
        "\n",
        "plt.figure(figsize=(6, 7))\n",
        "for i in range(25):\n",
        "    plt.subplot(5, 5, i+1)\n",
        "    plt.imshow(X[i].reshape(28, 28), cmap=plt.cm.Greys_r)\n",
        "    plt.title(y[i])\n",
        "    plt.axis('off')"
      ],
      "execution_count": null,
      "outputs": [
        {
          "output_type": "display_data",
          "data": {
            "image/png": "[encoded data removed]",
            "text/plain": [
              "<Figure size 432x504 with 25 Axes>"
            ]
          },
          "metadata": {
            "needs_background": "light"
          }
        }
      ]
    },
    {
      "cell_type": "markdown",
      "metadata": {
        "id": "jL6Cd-7tb29_"
      },
      "source": [
        "Нам столько размерностей не нужно, поэтому давайте выпрямим матрицу, тем боле мы знаем что значение каждого пикселя независимо друг друга."
      ]
    },
    {
      "cell_type": "code",
      "metadata": {
        "id": "tDiEEUYJN_G6",
        "colab": {
          "base_uri": "https://localhost:8080/"
        },
        "outputId": "67bda918-dfaf-4de8-ac53-8801dd93329a"
      },
      "source": [
        "X, y = next(iter(train_loader))\n",
        "X = X.view(X.shape[0], -1)\n",
        "X.shape"
      ],
      "execution_count": null,
      "outputs": [
        {
          "output_type": "execute_result",
          "data": {
            "text/plain": [
              "torch.Size([128, 784])"
            ]
          },
          "metadata": {},
          "execution_count": 119
        }
      ]
    },
    {
      "cell_type": "markdown",
      "metadata": {
        "id": "6_m0y3z9N_HN"
      },
      "source": [
        " Размерность\n",
        "- количество примеров в батче\n",
        "- количество фичей"
      ]
    },
    {
      "cell_type": "code",
      "metadata": {
        "id": "0rRs_fibN_HX",
        "colab": {
          "base_uri": "https://localhost:8080/"
        },
        "outputId": "d654deec-faef-4534-b761-776f96fb44de"
      },
      "source": [
        "y"
      ],
      "execution_count": null,
      "outputs": [
        {
          "output_type": "execute_result",
          "data": {
            "text/plain": [
              "tensor([0, 1, 1, 1, 1, 0, 0, 1, 0, 0, 1, 1, 0, 1, 0, 1, 0, 1, 0, 1, 1, 1, 0, 1,\n",
              "        0, 0, 0, 0, 0, 0, 1, 1, 0, 1, 1, 1, 1, 0, 0, 1, 1, 1, 0, 1, 0, 0, 0, 1,\n",
              "        1, 0, 1, 1, 1, 0, 1, 1, 1, 0, 0, 1, 0, 1, 0, 1, 1, 0, 1, 1, 0, 1, 1, 0,\n",
              "        1, 0, 0, 0, 1, 0, 1, 0, 0, 0, 1, 0, 0, 1, 0, 1, 0, 0, 1, 1, 1, 0, 1, 1,\n",
              "        1, 0, 0, 0, 1, 1, 0, 0, 1, 0, 0, 1, 0, 0, 0, 0, 1, 0, 1, 1, 0, 0, 1, 0,\n",
              "        0, 0, 1, 0, 0, 1, 0, 1])"
            ]
          },
          "metadata": {},
          "execution_count": 120
        }
      ]
    },
    {
      "cell_type": "markdown",
      "metadata": {
        "id": "Z4vTsvPZdPQg"
      },
      "source": [
        "Такой У нам не совсем подходит. Сейчас объясню почему. Размерность Х (128,784) матрично перемножим на скрытый слой (784,1) и получится (128,1). Нужно понимать, что размерность (128,) и (128,1) это немного разные вещи  "
      ]
    },
    {
      "cell_type": "code",
      "metadata": {
        "id": "98g7689ON_Hc",
        "colab": {
          "base_uri": "https://localhost:8080/"
        },
        "outputId": "ab0ca7c3-91a6-4c5e-c847-20db8f904865"
      },
      "source": [
        "w = torch.rand(784, 1) #Рандомные необученые веса\n",
        "pred = X.matmul(w)\n",
        "pred.shape"
      ],
      "execution_count": null,
      "outputs": [
        {
          "output_type": "execute_result",
          "data": {
            "text/plain": [
              "torch.Size([128, 1])"
            ]
          },
          "metadata": {},
          "execution_count": 121
        }
      ]
    },
    {
      "cell_type": "code",
      "metadata": {
        "id": "KG9L5xtJd9TQ",
        "colab": {
          "base_uri": "https://localhost:8080/"
        },
        "outputId": "b0a15d34-39fb-4b93-bd79-7add5f2dc276"
      },
      "source": [
        "pred"
      ],
      "execution_count": null,
      "outputs": [
        {
          "output_type": "execute_result",
          "data": {
            "text/plain": [
              "tensor([[-44.6157],\n",
              "        [  5.5425],\n",
              "        [-28.6923],\n",
              "        [-21.4091],\n",
              "        [-59.7456],\n",
              "        [-20.2244],\n",
              "        [-29.9479],\n",
              "        [ 37.5105],\n",
              "        [ 71.7959],\n",
              "        [ -9.6395],\n",
              "        [-30.5452],\n",
              "        [  2.4740],\n",
              "        [-73.7924],\n",
              "        [-50.7911],\n",
              "        [ 35.3691],\n",
              "        [-43.3310],\n",
              "        [-16.9126],\n",
              "        [ 15.3142],\n",
              "        [ 31.4798],\n",
              "        [-47.1997],\n",
              "        [-53.5943],\n",
              "        [ -9.7549],\n",
              "        [ 10.7951],\n",
              "        [-19.6951],\n",
              "        [-52.1874],\n",
              "        [ 35.2455],\n",
              "        [-46.2004],\n",
              "        [ 11.0107],\n",
              "        [ 25.1551],\n",
              "        [-15.5603],\n",
              "        [  5.0490],\n",
              "        [-73.0802],\n",
              "        [ 25.5685],\n",
              "        [ 27.6846],\n",
              "        [ 31.7894],\n",
              "        [-65.1087],\n",
              "        [-16.9025],\n",
              "        [-25.2234],\n",
              "        [ 31.0985],\n",
              "        [-35.9976],\n",
              "        [-90.9657],\n",
              "        [  5.5373],\n",
              "        [ 26.2203],\n",
              "        [-54.9558],\n",
              "        [-63.0141],\n",
              "        [-51.8929],\n",
              "        [-68.9684],\n",
              "        [-47.6985],\n",
              "        [  1.6912],\n",
              "        [ -2.9685],\n",
              "        [-36.9166],\n",
              "        [ 22.2337],\n",
              "        [-37.1782],\n",
              "        [ -3.2351],\n",
              "        [-23.6028],\n",
              "        [ 62.5841],\n",
              "        [-22.0203],\n",
              "        [  6.6795],\n",
              "        [ 68.4202],\n",
              "        [-53.6035],\n",
              "        [-23.7035],\n",
              "        [ -5.9456],\n",
              "        [  7.8649],\n",
              "        [ 51.1529],\n",
              "        [-19.2093],\n",
              "        [ 18.2569],\n",
              "        [ -7.6983],\n",
              "        [ 56.8506],\n",
              "        [-58.6094],\n",
              "        [-36.7728],\n",
              "        [-19.9874],\n",
              "        [ 45.3820],\n",
              "        [ -3.5631],\n",
              "        [-26.5624],\n",
              "        [ 33.6058],\n",
              "        [-43.7779],\n",
              "        [-25.4017],\n",
              "        [ -4.8133],\n",
              "        [ 74.7227],\n",
              "        [ 21.6477],\n",
              "        [ 30.1388],\n",
              "        [-24.9660],\n",
              "        [-12.1637],\n",
              "        [ -6.3365],\n",
              "        [-37.4474],\n",
              "        [-55.4144],\n",
              "        [-18.4272],\n",
              "        [-47.1164],\n",
              "        [-42.2217],\n",
              "        [-21.8327],\n",
              "        [ 22.4538],\n",
              "        [-14.4491],\n",
              "        [ 10.3522],\n",
              "        [  2.1947],\n",
              "        [  9.3744],\n",
              "        [-30.8072],\n",
              "        [-68.9369],\n",
              "        [ 26.8150],\n",
              "        [ 51.8613],\n",
              "        [ 30.4818],\n",
              "        [-36.6343],\n",
              "        [ 37.8248],\n",
              "        [ 75.1599],\n",
              "        [  3.0999],\n",
              "        [  3.8537],\n",
              "        [-51.3095],\n",
              "        [ -7.1776],\n",
              "        [-42.4674],\n",
              "        [ 12.3141],\n",
              "        [140.0138],\n",
              "        [ 74.0951],\n",
              "        [ 29.2442],\n",
              "        [-25.5174],\n",
              "        [-28.0212],\n",
              "        [-57.0320],\n",
              "        [ 60.0005],\n",
              "        [-32.7820],\n",
              "        [ 38.0569],\n",
              "        [ 21.0481],\n",
              "        [ 25.9856],\n",
              "        [-69.1128],\n",
              "        [-69.5352],\n",
              "        [-70.6458],\n",
              "        [112.8803],\n",
              "        [ 36.5554],\n",
              "        [ -2.0020],\n",
              "        [ 61.8194],\n",
              "        [ 34.3311]])"
            ]
          },
          "metadata": {},
          "execution_count": 122
        }
      ]
    },
    {
      "cell_type": "markdown",
      "metadata": {
        "id": "Rb1hswcGeEpc"
      },
      "source": [
        "Теперь у нас есть предсказания и их размерность (128,1). Нужно будет счтить лосс с у, поэтому приведем его к такой же размерности с expand_dims - это функция есть в нумпае, также есть и в торче"
      ]
    },
    {
      "cell_type": "code",
      "metadata": {
        "id": "wAIFQMfwN_Hl"
      },
      "source": [
        "y = np.expand_dims(y, 1)"
      ],
      "execution_count": null,
      "outputs": []
    },
    {
      "cell_type": "code",
      "metadata": {
        "id": "SrlrvUq7N_Hw",
        "colab": {
          "base_uri": "https://localhost:8080/"
        },
        "outputId": "1a95f3d3-7192-4d43-e3e7-23e371e4042a"
      },
      "source": [
        "y"
      ],
      "execution_count": null,
      "outputs": [
        {
          "output_type": "execute_result",
          "data": {
            "text/plain": [
              "array([[0],\n",
              "       [1],\n",
              "       [1],\n",
              "       [1],\n",
              "       [1],\n",
              "       [0],\n",
              "       [0],\n",
              "       [1],\n",
              "       [0],\n",
              "       [0],\n",
              "       [1],\n",
              "       [1],\n",
              "       [0],\n",
              "       [1],\n",
              "       [0],\n",
              "       [1],\n",
              "       [0],\n",
              "       [1],\n",
              "       [0],\n",
              "       [1],\n",
              "       [1],\n",
              "       [1],\n",
              "       [0],\n",
              "       [1],\n",
              "       [0],\n",
              "       [0],\n",
              "       [0],\n",
              "       [0],\n",
              "       [0],\n",
              "       [0],\n",
              "       [1],\n",
              "       [1],\n",
              "       [0],\n",
              "       [1],\n",
              "       [1],\n",
              "       [1],\n",
              "       [1],\n",
              "       [0],\n",
              "       [0],\n",
              "       [1],\n",
              "       [1],\n",
              "       [1],\n",
              "       [0],\n",
              "       [1],\n",
              "       [0],\n",
              "       [0],\n",
              "       [0],\n",
              "       [1],\n",
              "       [1],\n",
              "       [0],\n",
              "       [1],\n",
              "       [1],\n",
              "       [1],\n",
              "       [0],\n",
              "       [1],\n",
              "       [1],\n",
              "       [1],\n",
              "       [0],\n",
              "       [0],\n",
              "       [1],\n",
              "       [0],\n",
              "       [1],\n",
              "       [0],\n",
              "       [1],\n",
              "       [1],\n",
              "       [0],\n",
              "       [1],\n",
              "       [1],\n",
              "       [0],\n",
              "       [1],\n",
              "       [1],\n",
              "       [0],\n",
              "       [1],\n",
              "       [0],\n",
              "       [0],\n",
              "       [0],\n",
              "       [1],\n",
              "       [0],\n",
              "       [1],\n",
              "       [0],\n",
              "       [0],\n",
              "       [0],\n",
              "       [1],\n",
              "       [0],\n",
              "       [0],\n",
              "       [1],\n",
              "       [0],\n",
              "       [1],\n",
              "       [0],\n",
              "       [0],\n",
              "       [1],\n",
              "       [1],\n",
              "       [1],\n",
              "       [0],\n",
              "       [1],\n",
              "       [1],\n",
              "       [1],\n",
              "       [0],\n",
              "       [0],\n",
              "       [0],\n",
              "       [1],\n",
              "       [1],\n",
              "       [0],\n",
              "       [0],\n",
              "       [1],\n",
              "       [0],\n",
              "       [0],\n",
              "       [1],\n",
              "       [0],\n",
              "       [0],\n",
              "       [0],\n",
              "       [0],\n",
              "       [1],\n",
              "       [0],\n",
              "       [1],\n",
              "       [1],\n",
              "       [0],\n",
              "       [0],\n",
              "       [1],\n",
              "       [0],\n",
              "       [0],\n",
              "       [0],\n",
              "       [1],\n",
              "       [0],\n",
              "       [0],\n",
              "       [1],\n",
              "       [0],\n",
              "       [1]])"
            ]
          },
          "metadata": {},
          "execution_count": 124
        }
      ]
    },
    {
      "cell_type": "markdown",
      "metadata": {
        "id": "TFAKpwY_N_H_"
      },
      "source": [
        "Итерация по эпохам"
      ]
    },
    {
      "cell_type": "code",
      "metadata": {
        "id": "DWmQFlyWN_IB",
        "colab": {
          "base_uri": "https://localhost:8080/"
        },
        "outputId": "dd9e0346-d086-4958-8ca8-d15baaa7804c"
      },
      "source": [
        "epochs = 3\n",
        "\n",
        "for n_epoch in range(epochs):\n",
        "    \n",
        "    dataset_passed_samples = 0\n",
        "    \n",
        "    for x, y in train_loader:\n",
        "        \n",
        "        # вот здесь мы могли бы как-то манипулировать с данными, например, учить, но пока этого делать не будет\n",
        "        \n",
        "        time.sleep(0.05)\n",
        "        \n",
        "        dataset_passed_samples += x.shape[0]\n",
        "        \n",
        "        dataset_passed_percent = dataset_passed_samples * 100 / train_loader.dataset.data.shape[0]\n",
        "        \n",
        "        print(f'Эпоха - {n_epoch + 1}, прошли - {dataset_passed_percent:.2f} % датасета', end='\\r')\n",
        "        \n",
        "    print('\\r')"
      ],
      "execution_count": null,
      "outputs": [
        {
          "output_type": "stream",
          "name": "stdout",
          "text": [
            "Эпоха - 1, прошли - 99.13 % датасета\n",
            "Эпоха - 2, прошли - 99.13 % датасета\n",
            "Эпоха - 3, прошли - 99.13 % датасета\n"
          ]
        }
      ]
    },
    {
      "cell_type": "markdown",
      "metadata": {
        "id": "8iBd9MS_f7Eg"
      },
      "source": [
        "# Однослойный персептрон"
      ]
    },
    {
      "cell_type": "code",
      "metadata": {
        "id": "x9wKt3z1gIo7",
        "colab": {
          "base_uri": "https://localhost:8080/"
        },
        "outputId": "7fce2009-aeea-4a7d-df49-d3fabbe49d89"
      },
      "source": [
        "learning_rate = 0.01 # тот самый лернинг рейт, который определяет какую часть от градиента мы будем брать\n",
        "epochs = 5  #сколько раз мы пройдем по всему тренировачному набору наших данных\n",
        "\n",
        "batch_size = 128  #это число примеров в баче понадобится нам при обучении чтобы усреднять лосс (ошибку обучения)\n",
        "n_feat = 784\n",
        "\n",
        "w1 = np.random.rand(n_feat,1)*0.01 #0.01 - нормируем таким образом наши веса, чтобы избежать деления на ноль при бэкпропе, \n",
        "                                    #эмпирически выбрано, так как сами фичи у нас имеют значения близкие к 0\n",
        "b1 = np.zeros(1) #размерность должна совпадать с количеством параметров, которые у нас останутся после матричного перемножения\n",
        "\n",
        "losses = [] #на каждой итерации (и для всех эпох) будем сохранять сюда наш Лосс, чтобы видеть обучается ли НС\n",
        "\n",
        "for n_epoch in range(epochs):\n",
        "    \n",
        "    print(f'Epoch: {n_epoch + 1}')\n",
        "    \n",
        "    for x, y in train_loader:\n",
        "\n",
        "        x = x.view(x.shape[0], -1).numpy() #приводим к размерности (128,784)\n",
        "        y = np.expand_dims(y.numpy(), 1) #приводим к размерности (128,1)\n",
        "\n",
        "        h1 = x.dot(w1) + b1 #переход в одномерное пространство\n",
        "        p = 1/(1+np.exp(-h1)) #преобразование в \"вероятности\"\n",
        "        \n",
        "        bce = (-np.sum(np.multiply(np.log(p), y) + np.multiply((1 - y), np.log(1 - p)))) / batch_size \n",
        "        #расчет энтропии с усреднением по размеру бача\n",
        "          \n",
        "        losses.append(bce) \n",
        "        #ниже производная bce и sigmoid, если вы распишите две этих производные, перемножите и сократите, то полчится следующая строчка\n",
        "        dp = (p - y) / batch_size \n",
        "        dw1 = np.dot(x.T, dp) # производная по линейному преобразванию, относительно W - весов \n",
        "        db1 = np.sum(dp) # производная по лин преобразованиюб относительно В - баяса, \n",
        "        #здесь по идее должно быть перемножение на единичный вектор (128,1), но это тоже самое что и сумма значениеб типа лайф хак\n",
        "        \n",
        "        w1 -= learning_rate * dw1 # Обновим веса и баясы \n",
        "        b1 -= learning_rate * db1"
      ],
      "execution_count": null,
      "outputs": [
        {
          "output_type": "stream",
          "name": "stdout",
          "text": [
            "Epoch: 1\n",
            "Epoch: 2\n",
            "Epoch: 3\n",
            "Epoch: 4\n",
            "Epoch: 5\n"
          ]
        }
      ]
    },
    {
      "cell_type": "markdown",
      "metadata": {
        "id": "Lc3-pw-4wMum"
      },
      "source": [
        "А теперь построим график функции потерь"
      ]
    },
    {
      "cell_type": "code",
      "metadata": {
        "id": "NvB4U5OXhE3t",
        "colab": {
          "base_uri": "https://localhost:8080/",
          "height": 573
        },
        "outputId": "4be92db2-fa52-4474-bf50-cc7e77f2ffdd"
      },
      "source": [
        "plt.figure(figsize=(14, 12))\n",
        "plt.plot(losses)\n",
        "plt.grid()\n",
        "plt.title('Training process')\n",
        "plt.xlabel('Iterations')\n",
        "plt.ylabel('Loss function')"
      ],
      "execution_count": null,
      "outputs": [
        {
          "output_type": "execute_result",
          "data": {
            "text/plain": [
              "Text(0, 0.5, 'Loss function')"
            ]
          },
          "metadata": {},
          "execution_count": 20
        },
        {
          "output_type": "display_data",
          "data": {
            "image/png": "[encoded data removed]",
            "text/plain": [
              "<Figure size 1008x864 with 1 Axes>"
            ]
          },
          "metadata": {
            "needs_background": "light"
          }
        }
      ]
    },
    {
      "cell_type": "markdown",
      "metadata": {
        "id": "IfpCVrN2tO5S"
      },
      "source": [
        "## Математика \n",
        "\n",
        "\n",
        "![alt text](https://sun9-39.userapi.com/c850608/v850608777/47a4/fgZlI898IUU.jpg)\n",
        "![alt text](https://sun9-41.userapi.com/c858216/v858216777/cc4f5/v3CPa-tnm80.jpg)\n",
        "![alt text](https://sun9-67.userapi.com/c857632/v857632471/f6e95/H0dsmWsUInc.jpg)\n",
        "![alt text](https://sun9-71.userapi.com/c858120/v858120274/10d0ef/hdKO-3Syk3g.jpg)\n",
        "\n"
      ]
    },
    {
      "cell_type": "markdown",
      "metadata": {
        "id": "ToNAC3-bN_IN"
      },
      "source": [
        "А теперь ваша очередь, нужно написать двуслоный персептрон, согласно коду и выкладкам выше"
      ]
    },
    {
      "cell_type": "code",
      "metadata": {
        "id": "yJSR8hdTN_IO",
        "colab": {
          "base_uri": "https://localhost:8080/"
        },
        "outputId": "5a368b1b-9885-49a9-e7cd-b69428351f52"
      },
      "source": [
        "### КОД СЮДА ###\n",
        "\n",
        "learning_rate = 0.01\n",
        "epochs = 5\n",
        "n_feat = 784\n",
        "\n",
        "\n",
        "w1 = np.random.rand(n_feat, 256)*0.01   #(n_feat, out_feat)\n",
        "b1 = np.zeros(1)\n",
        "w2 = np.random.rand(256, 1)*0.01 \n",
        "b2 = np.zeros(1)\n",
        "\n",
        "losses = []\n",
        "\n",
        "for n_epoch in range(epochs):\n",
        "    \n",
        "    print(f'Epoch: {n_epoch + 1}')\n",
        "    \n",
        "    for x, y in train_loader:\n",
        "        \n",
        "        x = x.view(x.shape[0], -1).numpy()  #(128, 784)\n",
        "        y = np.expand_dims(y.numpy(), 1)   #(128,1)\n",
        "        \n",
        "        ### КОД СЮДА ###\n",
        "        \n",
        "        # forward\n",
        "        z1 = x.dot(w1) + b1 #128, out_feat(256)\n",
        "        a1 = 1/(1+np.exp(-z1))  #128, out_feat(256)\n",
        "        z2 = a1.dot(w2) + b2  #128, 1\n",
        "        p = 1/(1+np.exp(-z2)) #преобразование в \"вероятности\"\n",
        "        # рассчет bce\n",
        "        bce = (-np.sum(np.multiply(np.log(p), y) + np.multiply((1 - y), np.log(1 - p)))) / batch_size \n",
        "        losses.append(bce) \n",
        "\n",
        "        # backward\n",
        "        dp = p - y   #производная bce и sigmoid  (128,1)\n",
        "        dw2 = np.dot(a1.T, dp) / batch_size  #256 128  128 1 = 256 1  !!!???\n",
        "        db2 = np.sum(dp) / batch_size   # 1, \n",
        "\n",
        "\n",
        "        da1_dz1 = (1 - ((np.exp(z1) - np.exp(-z1))/(np.exp(z1) + np.exp(-z1)))) #128 256\n",
        "        d_halp = w2.T * da1_dz1    #1 256 * 128 256 = 128 256  простите за нейминг, это просто вспомогательные\n",
        "        d_help = dp * d_halp    #128 1   128 256  =    128 256  !!!!????\n",
        "        dw1 = np.dot(x.T, d_help) / batch_size  #784  128    128 256     = 784 256\n",
        "        \n",
        "        db1 = np.sum(d_help) / batch_size      # 1 128  * 128 256 = 256, 1\n",
        "\n",
        "        \n",
        "        # gradient descent\n",
        "        w2 -= learning_rate * dw2\n",
        "        b2 -= learning_rate * db2\n",
        "        w1 -= learning_rate * dw1\n",
        "        b1 -= learning_rate * db1\n",
        "\n",
        "    \n"
      ],
      "execution_count": null,
      "outputs": [
        {
          "output_type": "stream",
          "name": "stdout",
          "text": [
            "Epoch: 1\n",
            "Epoch: 2\n",
            "Epoch: 3\n",
            "Epoch: 4\n",
            "Epoch: 5\n"
          ]
        }
      ]
    },
    {
      "cell_type": "markdown",
      "metadata": {
        "id": "ur7SqyVGN_IY"
      },
      "source": [
        "## Подсказки по размерностям\n",
        "\n",
        "### Forward\n",
        "\n",
        "- z1 - первое линейное преобразование - (BATCH_SIZE, INNER_FEATURES)\n",
        "- a1 - Применение нелинейности - (BATCH_SIZE, INNER_FEATURES)\n",
        "- z2 - второе нелинейное преобразование - (BATCH_SIZE, 1)\n",
        "- pred or A2- сигмоида - (BATCH_SIZE, 1)\n",
        "- loss - функция потерь - скаляр\n",
        "\n",
        "### Backward\n",
        "\n",
        "- d_BCE/d_pred - градиент функции потерь по pred - (BATCH_SIZE, 1)\n",
        "- d_pred/dz2 - градиент сигмоиды по z2 - (BATCH_SIZE, 1)\n",
        "- dz2/da1 - градиент линейного преобразования по a1 - (BATCH_SIZE, INNER_FEATURES)\n",
        "- dz2/dw2 - градиент линейного преобразования по w2 - (INNER_FEATURES, 1)\n",
        "- dz2/db2 - градиент линейного преобразования по b2 - (1,)\n",
        "- da1/dz1 - градиент нелинейной функции по z1 - (BATCH_SIZE, INNER_FEATURES)\n",
        "- dz1/dw1 - градиент линейного преобразования по w1 - (IN_FEATURES, INNER_FEATURES)\n",
        "- dz1/db1 - градиент линейного преобразования по b1 - (INNER_FEATURES,)"
      ]
    },
    {
      "cell_type": "markdown",
      "metadata": {
        "id": "ihOoASMAN_Ia"
      },
      "source": [
        "и график нарисуйте"
      ]
    },
    {
      "cell_type": "code",
      "metadata": {
        "id": "CwRzXKRNN_Ic",
        "colab": {
          "base_uri": "https://localhost:8080/",
          "height": 553
        },
        "outputId": "5795ded5-9aea-489e-82be-f63e15168f29"
      },
      "source": [
        "plt.figure(figsize=(14, 12))\n",
        "plt.plot(losses)\n",
        "plt.grid()\n",
        "plt.title('Training process')\n",
        "plt.xlabel('Iterations')\n",
        "plt.ylabel('Loss function');"
      ],
      "execution_count": null,
      "outputs": [
        {
          "output_type": "display_data",
          "data": {
            "image/png": "[encoded data removed]",
            "text/plain": [
              "<Figure size 1008x864 with 1 Axes>"
            ]
          },
          "metadata": {
            "needs_background": "light"
          }
        }
      ]
    },
    {
      "cell_type": "code",
      "metadata": {
        "id": "vigk5CgmIDsP"
      },
      "source": [
        ""
      ],
      "execution_count": null,
      "outputs": []
    },
    {
      "cell_type": "markdown",
      "metadata": {
        "id": "axU2DnJ1IT1J"
      },
      "source": [
        "# Тестирование"
      ]
    },
    {
      "cell_type": "markdown",
      "metadata": {
        "id": "vMxfUk9DLfNx"
      },
      "source": [
        "Сделайте тоже самое для своей модели..."
      ]
    },
    {
      "cell_type": "code",
      "metadata": {
        "id": "7DKeGWwzIliO"
      },
      "source": [
        "losses_test = []\n",
        "predicted = []\n",
        "true_lbls = []\n",
        "\n",
        "for x, y in test_loader:\n",
        "\n",
        "  x = x.view(x.shape[0], -1).numpy()\n",
        "  y = np.expand_dims(y.numpy(), 1)\n",
        "\n",
        "  z1 = x.dot(w1) + b1 #128, out_feat(256)\n",
        "  a1 = 1/(1+np.exp(-z1))  #128, out_feat(256)\n",
        "  z2 = a1.dot(w2) + b2  #128, 1\n",
        "  p = 1/(1+np.exp(-z2)) #преобразование в \"вероятности\"\n",
        "        # рассчет bce\n",
        "  bce = (-np.sum(np.multiply(np.log(p), y) + np.multiply((1 - y), np.log(1 - p)))) / batch_size \n",
        "    \n",
        "  losses_test.append(bce)\n",
        "  predicted.extend(p)\n",
        "  true_lbls.extend(y) "
      ],
      "execution_count": null,
      "outputs": []
    },
    {
      "cell_type": "markdown",
      "metadata": {
        "id": "259SOuP5K2HR"
      },
      "source": [
        "Проверим, что для каждого семплау нас есть предсказание"
      ]
    },
    {
      "cell_type": "code",
      "metadata": {
        "id": "J3NQGFxfJY-4",
        "colab": {
          "base_uri": "https://localhost:8080/"
        },
        "outputId": "042972c1-0e53-47b4-c457-af779cecabe4"
      },
      "source": [
        "print(len(predicted), len(true_lbls))"
      ],
      "execution_count": null,
      "outputs": [
        {
          "output_type": "stream",
          "name": "stdout",
          "text": [
            "1920 1920\n"
          ]
        }
      ]
    },
    {
      "cell_type": "markdown",
      "metadata": {
        "id": "xWJ3fjLhK9z4"
      },
      "source": [
        "Теперь применим стандартную Ф меру и оценим нашу модель"
      ]
    },
    {
      "cell_type": "code",
      "metadata": {
        "id": "BbD-n9rVJlBe",
        "colab": {
          "base_uri": "https://localhost:8080/"
        },
        "outputId": "dc2e6faf-86de-409c-881a-f86c1bc0f484"
      },
      "source": [
        "from sklearn.metrics import f1_score\n",
        "pred = np.array([round(i[0]) for i in predicted]) \n",
        "# У нас были вероятности а нужны классы поэтому просто округлим каждое значени и получим лейблы \n",
        "t_lbls = np.array(true_lbls).squeeze() #снимем лишнюю размерность\n",
        "f1 = f1_score(pred, t_lbls, average='weighted')\n",
        "print('F1 score is equal to: {0:0.02f}'.format(f1))"
      ],
      "execution_count": null,
      "outputs": [
        {
          "output_type": "stream",
          "name": "stdout",
          "text": [
            "F1 score is equal to: 0.97\n"
          ]
        }
      ]
    },
    {
      "cell_type": "markdown",
      "metadata": {
        "id": "zHg6S-QgN_Mm"
      },
      "source": [
        "# Немного торча"
      ]
    },
    {
      "cell_type": "code",
      "metadata": {
        "id": "rWON-EQvN_Mn"
      },
      "source": [
        "import torch"
      ],
      "execution_count": null,
      "outputs": []
    },
    {
      "cell_type": "markdown",
      "metadata": {
        "id": "MYyJMcmQN_Mq"
      },
      "source": [
        "### Мы можем определить нашу модель как последовательность уже существующих слоев, как в керасе"
      ]
    },
    {
      "cell_type": "code",
      "metadata": {
        "id": "7WkLbwyAN_Mr",
        "colab": {
          "base_uri": "https://localhost:8080/"
        },
        "outputId": "fa17184a-0366-4ed3-9c54-7302d33c1f65"
      },
      "source": [
        "model = torch.nn.Sequential()\n",
        "\n",
        "model.add_module(name='linear_1', module=torch.nn.Linear(in_features=784, out_features=256))\n",
        "model.add_module(name='relu', module=torch.nn.ReLU())\n",
        "model.add_module(name='linear_2', module=torch.nn.Linear(in_features=256, out_features=1))\n",
        "model.add_module(name='sigmoid', module=torch.nn.Sigmoid())\n",
        "\n",
        "model"
      ],
      "execution_count": null,
      "outputs": [
        {
          "output_type": "execute_result",
          "data": {
            "text/plain": [
              "Sequential(\n",
              "  (linear_1): Linear(in_features=784, out_features=256, bias=True)\n",
              "  (relu): ReLU()\n",
              "  (linear_2): Linear(in_features=256, out_features=1, bias=True)\n",
              "  (sigmoid): Sigmoid()\n",
              ")"
            ]
          },
          "metadata": {},
          "execution_count": 133
        }
      ]
    },
    {
      "cell_type": "markdown",
      "metadata": {
        "id": "xFnSynhmN_Mw"
      },
      "source": [
        "### Либо так"
      ]
    },
    {
      "cell_type": "code",
      "metadata": {
        "id": "NjBXbnSNN_Mx",
        "colab": {
          "base_uri": "https://localhost:8080/"
        },
        "outputId": "3d8de524-f073-45e4-859b-cd6c08ae26e7"
      },
      "source": [
        "model = torch.nn.Sequential(\n",
        "    torch.nn.Linear(in_features=784, out_features=256),\n",
        "    torch.nn.ReLU(),\n",
        "    torch.nn.Linear(in_features=256, out_features=1),\n",
        "    torch.nn.Sigmoid()\n",
        ")\n",
        "\n",
        "model"
      ],
      "execution_count": null,
      "outputs": [
        {
          "output_type": "execute_result",
          "data": {
            "text/plain": [
              "Sequential(\n",
              "  (0): Linear(in_features=784, out_features=256, bias=True)\n",
              "  (1): ReLU()\n",
              "  (2): Linear(in_features=256, out_features=1, bias=True)\n",
              "  (3): Sigmoid()\n",
              ")"
            ]
          },
          "metadata": {},
          "execution_count": 134
        }
      ]
    },
    {
      "cell_type": "markdown",
      "metadata": {
        "id": "MKOnBBifN_M1"
      },
      "source": [
        "## А вот для чего нужно было писать в домашке классы\n",
        "## Для определения своих моделей/слоев/чего вам захочется нам нужно сделать такую структуру"
      ]
    },
    {
      "cell_type": "code",
      "metadata": {
        "id": "iNXM6WnUN_M9"
      },
      "source": [
        "# наследуемся от класса torch.nn.Module\n",
        "class MLP(torch.nn.Module):\n",
        "    \n",
        "    # определяем метод __init__\n",
        "    # он нужен для того, чтобы мы могли определить нужные нам слои, веса, сохраняемые операции\n",
        "    # \n",
        "    # передаем ссылку на самого себя первым параметром\n",
        "    # \n",
        "    # определяем любые другие передаваемые аргументы\n",
        "    # могут быть чем угодно: числа, словари, другие слои, другие модели и вообще все что угодно\n",
        "    # \n",
        "    def __init__(self, in_features, inner_features, out_features):\n",
        "        \n",
        "        # Главная задача этого метода - возможность использования в классе потомке, методов класса-родителя\n",
        "        # Вызываем __init__ родителя - torch.nn.Module\n",
        "        super().__init__()\n",
        "        \n",
        "        # определяем слои и все что захотим сохранять/использовать\n",
        "        self.linear_1 = torch.nn.Linear(in_features=in_features, out_features=inner_features)\n",
        "        self.non_linear_function = torch.nn.ReLU()\n",
        "        self.linear_2 = torch.nn.Linear(in_features=inner_features, out_features=out_features)\n",
        "        self.sigmoid = torch.nn.Sigmoid()\n",
        "        \n",
        "    # нам нужно обязательно реализовать метод forward\n",
        "    # это то, что нашей модели нужно делать, как оперировать с входными данными, как рассчитывать\n",
        "    # метод backward нам не нужно реализовывать, потому что в торче есть автоматическое дифференцирование\n",
        "    # главное, чтобы наши операции были дифференцируемы\n",
        "    # некоторые подробности можете узнать здесь:\n",
        "    # https://pytorch.org/tutorials/beginner/blitz/autograd_tutorial.html#sphx-glr-beginner-blitz-autograd-tutorial-py\n",
        "    # также список доступных дифференцируемых операций можете посмотреть здесь:\n",
        "    # https://pytorch.org/docs/stable/tensors.html\n",
        "    def forward(self, x):\n",
        "        \n",
        "        # наша привычная схема\n",
        "        x = self.linear_1(x)\n",
        "        x = self.non_linear_function(x)\n",
        "        x = self.linear_2(x)\n",
        "        x = self.sigmoid(x)\n",
        "        \n",
        "        return x\n",
        "    \n",
        "    # мы также можем реализовать любые другие полезные нам методы внутри класса"
      ],
      "execution_count": null,
      "outputs": []
    },
    {
      "cell_type": "code",
      "metadata": {
        "id": "Ftetvx8MN_NA"
      },
      "source": [
        "# определяем нашу модель\n",
        "model = MLP(in_features=784, inner_features=256, out_features=1)"
      ],
      "execution_count": null,
      "outputs": []
    },
    {
      "cell_type": "code",
      "metadata": {
        "id": "G3zivrXiN_ND",
        "scrolled": true,
        "colab": {
          "base_uri": "https://localhost:8080/"
        },
        "outputId": "f45d30cf-ded6-4221-b276-987c1729b908"
      },
      "source": [
        "model"
      ],
      "execution_count": null,
      "outputs": [
        {
          "output_type": "execute_result",
          "data": {
            "text/plain": [
              "MLP(\n",
              "  (linear_1): Linear(in_features=784, out_features=256, bias=True)\n",
              "  (non_linear_function): ReLU()\n",
              "  (linear_2): Linear(in_features=256, out_features=1, bias=True)\n",
              "  (sigmoid): Sigmoid()\n",
              ")"
            ]
          },
          "metadata": {},
          "execution_count": 137
        }
      ]
    },
    {
      "cell_type": "code",
      "metadata": {
        "id": "pa4BG_t_N_NG",
        "colab": {
          "base_uri": "https://localhost:8080/"
        },
        "outputId": "f45388c6-2937-4b59-a181-f45b2a503928"
      },
      "source": [
        "# можем посмотреть веса\n",
        "model.linear_1.weight.shape"
      ],
      "execution_count": null,
      "outputs": [
        {
          "output_type": "execute_result",
          "data": {
            "text/plain": [
              "torch.Size([256, 784])"
            ]
          },
          "metadata": {},
          "execution_count": 138
        }
      ]
    },
    {
      "cell_type": "code",
      "metadata": {
        "id": "n2hPqcyxN_NQ"
      },
      "source": [
        "# еще нам нужно задать функцию потерь \n",
        "criterion = torch.nn.BCELoss()"
      ],
      "execution_count": null,
      "outputs": []
    },
    {
      "cell_type": "code",
      "metadata": {
        "id": "IEpYutCqN_Na"
      },
      "source": [
        "# и оптимизатор, куда нужно передать параметры модели\n",
        "# параметры модели можно взять методом класса .parameters()\n",
        "optimizer = torch.optim.SGD(params=model.parameters(), lr=0.01)"
      ],
      "execution_count": null,
      "outputs": []
    },
    {
      "cell_type": "code",
      "metadata": {
        "id": "V-ssB6KsN_Nf",
        "colab": {
          "base_uri": "https://localhost:8080/"
        },
        "outputId": "cf7b4704-752b-4198-8b05-ba9eb737afdd"
      },
      "source": [
        "# можем посмотреть на параметры нашей модели\n",
        "params = list(model.parameters())\n",
        "params"
      ],
      "execution_count": null,
      "outputs": [
        {
          "output_type": "execute_result",
          "data": {
            "text/plain": [
              "[Parameter containing:\n",
              " tensor([[ 0.0190,  0.0192, -0.0149,  ...,  0.0346, -0.0215, -0.0282],\n",
              "         [-0.0083, -0.0056,  0.0262,  ...,  0.0200, -0.0220,  0.0289],\n",
              "         [-0.0315,  0.0067,  0.0208,  ...,  0.0140, -0.0039,  0.0235],\n",
              "         ...,\n",
              "         [-0.0244,  0.0316,  0.0299,  ..., -0.0084, -0.0341,  0.0080],\n",
              "         [-0.0230, -0.0329,  0.0227,  ...,  0.0119, -0.0089, -0.0176],\n",
              "         [-0.0317, -0.0153,  0.0269,  ...,  0.0054,  0.0211, -0.0078]],\n",
              "        requires_grad=True), Parameter containing:\n",
              " tensor([-1.0166e-02,  9.0910e-03, -2.4088e-02, -7.6324e-03, -2.4310e-02,\n",
              "         -1.7521e-02,  3.2225e-02,  3.0878e-02,  1.6631e-02, -1.7599e-02,\n",
              "         -7.2839e-03,  1.0682e-02,  3.0623e-02,  3.5573e-02,  2.3309e-02,\n",
              "          3.2674e-02, -2.3144e-03, -1.6972e-02,  1.2564e-02, -3.5116e-02,\n",
              "         -3.1651e-04, -1.8493e-02, -1.5688e-02,  3.0480e-02, -1.3561e-02,\n",
              "          1.7125e-02,  2.3891e-02, -4.7645e-03, -1.8958e-02,  1.0458e-02,\n",
              "         -2.6350e-02, -2.2993e-02, -2.8941e-02, -6.8157e-03, -6.2985e-03,\n",
              "          3.1332e-02, -1.8445e-02,  1.6350e-02, -2.3902e-02, -3.5595e-02,\n",
              "         -9.5594e-03,  4.7881e-03,  2.3957e-02,  1.3210e-02,  4.2183e-03,\n",
              "         -1.1892e-02,  1.9971e-02, -2.7097e-02, -6.7487e-03,  2.5763e-02,\n",
              "         -6.3592e-03,  2.5215e-03, -6.1387e-03,  3.4940e-02,  2.0630e-02,\n",
              "         -3.0989e-02,  1.0721e-02,  2.6048e-02, -2.1386e-02,  3.1049e-02,\n",
              "         -1.8876e-02,  2.9142e-02,  1.4339e-02, -7.6834e-03, -7.5010e-03,\n",
              "          1.2924e-02, -4.6922e-03, -2.1875e-02,  6.3796e-04, -2.0520e-02,\n",
              "         -2.9048e-02,  1.0174e-02, -1.3971e-02, -1.2967e-02, -2.5307e-02,\n",
              "         -2.3685e-02,  2.1452e-02, -3.3107e-02, -2.7130e-02,  1.2938e-02,\n",
              "         -1.1290e-02,  2.3413e-02, -3.2962e-02,  1.3478e-03, -2.9447e-02,\n",
              "          5.4325e-03, -3.2368e-02,  1.7174e-03, -3.1158e-02, -1.5047e-02,\n",
              "          2.3080e-02, -1.8792e-02,  5.9392e-05, -1.4426e-02,  2.1088e-02,\n",
              "         -5.7803e-03,  1.2391e-03, -1.8920e-02,  3.5297e-02,  1.1695e-02,\n",
              "         -3.3518e-03, -6.1031e-03,  2.3220e-02,  2.6351e-02, -1.9167e-02,\n",
              "         -3.3853e-02,  1.8641e-02,  5.6501e-03,  1.4529e-02,  1.7024e-02,\n",
              "         -2.0541e-02, -1.8089e-02, -2.5576e-02,  2.3404e-02,  2.0699e-02,\n",
              "         -3.1700e-02,  1.6986e-02, -2.8533e-03,  2.5675e-02, -7.2831e-03,\n",
              "          4.1888e-03,  3.5079e-02,  2.5500e-02,  1.3325e-02, -1.3928e-02,\n",
              "         -5.8448e-03,  2.4269e-02, -9.6500e-03, -2.1068e-03,  7.6142e-03,\n",
              "         -4.5252e-03,  9.4247e-03,  4.9793e-03,  3.3525e-03,  1.6482e-02,\n",
              "          7.8356e-03,  2.7564e-02, -1.5758e-02, -3.1290e-02,  2.2761e-02,\n",
              "          6.1207e-03, -8.5647e-03, -2.4812e-02, -8.8962e-03, -2.9419e-02,\n",
              "          1.6298e-02, -4.0352e-03, -2.8218e-02, -3.0348e-02,  1.0575e-02,\n",
              "          4.1509e-04,  1.5731e-03, -8.0147e-03,  2.2571e-02, -1.7298e-02,\n",
              "         -1.4563e-02,  3.0140e-02,  8.2819e-03,  2.0440e-02,  2.7134e-02,\n",
              "         -2.6206e-02,  3.1092e-02, -7.1709e-03,  9.7812e-03,  2.7750e-02,\n",
              "          3.0651e-02, -2.5124e-02,  3.2723e-02, -2.3492e-02,  1.4557e-02,\n",
              "          2.9736e-03, -2.4686e-02, -2.3952e-02, -1.4853e-02,  2.9108e-03,\n",
              "         -1.2754e-02, -1.5068e-02, -1.0977e-02,  9.3065e-04, -4.6959e-03,\n",
              "         -1.3782e-02, -2.6254e-02,  2.8405e-02, -8.5792e-03, -3.3283e-02,\n",
              "         -8.3256e-04, -2.4611e-02,  2.5875e-03, -2.8768e-02, -2.1209e-02,\n",
              "          1.0168e-02, -1.5047e-03,  2.8795e-02,  3.0184e-02,  3.0186e-02,\n",
              "         -1.5515e-02, -2.5973e-03,  3.6187e-03,  1.3327e-02,  2.2288e-02,\n",
              "         -8.5003e-03, -2.9024e-02, -8.8132e-03,  2.6223e-02,  3.5069e-02,\n",
              "          3.7066e-03, -2.0430e-02,  6.3448e-03,  2.6450e-02,  3.5168e-02,\n",
              "          4.4694e-04,  3.3763e-02, -7.9517e-03, -2.3668e-02, -3.4622e-02,\n",
              "          3.1642e-02, -1.7060e-02,  1.2119e-02,  1.9161e-02, -2.2523e-02,\n",
              "          2.0537e-02,  7.5144e-03,  1.6416e-02,  1.6837e-02, -1.9963e-02,\n",
              "         -1.5953e-02, -8.2333e-03, -1.1117e-02, -3.1684e-02, -2.6593e-02,\n",
              "          1.8610e-02, -5.8030e-03, -1.8129e-02, -4.4597e-03, -3.0942e-02,\n",
              "         -1.4191e-02,  3.1722e-02, -2.7509e-02,  3.0550e-03, -2.8620e-02,\n",
              "          1.5612e-02,  3.1058e-02,  3.1666e-02,  1.8614e-02, -2.7775e-02,\n",
              "          4.5789e-03,  3.4000e-02, -1.8628e-02, -1.1704e-02,  2.0603e-02,\n",
              "          2.2153e-02, -5.0504e-03, -3.2603e-02,  1.3238e-04, -2.0024e-02,\n",
              "         -6.3481e-03], requires_grad=True), Parameter containing:\n",
              " tensor([[ 0.0008, -0.0553,  0.0493, -0.0084,  0.0337, -0.0466,  0.0477, -0.0058,\n",
              "          -0.0544, -0.0521, -0.0208, -0.0045, -0.0200, -0.0195,  0.0614,  0.0004,\n",
              "           0.0241, -0.0548,  0.0302,  0.0026, -0.0522, -0.0532,  0.0051,  0.0527,\n",
              "           0.0270, -0.0570, -0.0586, -0.0241, -0.0279, -0.0241,  0.0125,  0.0374,\n",
              "          -0.0221, -0.0275,  0.0592,  0.0007,  0.0068,  0.0171, -0.0452, -0.0018,\n",
              "          -0.0098, -0.0069, -0.0169, -0.0346, -0.0441,  0.0252, -0.0307,  0.0330,\n",
              "           0.0466, -0.0130,  0.0427,  0.0218,  0.0137,  0.0306,  0.0549, -0.0477,\n",
              "           0.0519, -0.0500,  0.0504,  0.0003,  0.0202, -0.0272, -0.0137, -0.0388,\n",
              "          -0.0013, -0.0414,  0.0035, -0.0174, -0.0114, -0.0323,  0.0572, -0.0264,\n",
              "          -0.0580,  0.0448, -0.0545, -0.0464,  0.0403, -0.0386, -0.0356, -0.0524,\n",
              "          -0.0033, -0.0532,  0.0274,  0.0031,  0.0134, -0.0382,  0.0144, -0.0194,\n",
              "          -0.0560,  0.0443, -0.0177, -0.0108,  0.0618,  0.0376, -0.0134, -0.0507,\n",
              "           0.0144,  0.0422,  0.0303,  0.0452, -0.0038, -0.0429,  0.0014,  0.0229,\n",
              "           0.0193, -0.0372,  0.0521, -0.0126, -0.0596, -0.0055,  0.0074, -0.0503,\n",
              "           0.0561,  0.0109, -0.0490,  0.0021,  0.0412,  0.0518, -0.0195, -0.0281,\n",
              "          -0.0395,  0.0529, -0.0190, -0.0281,  0.0132, -0.0543,  0.0218, -0.0572,\n",
              "           0.0005, -0.0577, -0.0582,  0.0582,  0.0301, -0.0320,  0.0602, -0.0538,\n",
              "          -0.0027,  0.0232, -0.0107, -0.0192, -0.0610,  0.0406,  0.0397,  0.0572,\n",
              "           0.0310, -0.0147, -0.0128,  0.0193,  0.0470,  0.0200, -0.0501,  0.0149,\n",
              "          -0.0197, -0.0135, -0.0401, -0.0002,  0.0324,  0.0497,  0.0270, -0.0231,\n",
              "           0.0216,  0.0624,  0.0385, -0.0039,  0.0448,  0.0360,  0.0580,  0.0220,\n",
              "          -0.0168, -0.0137,  0.0292,  0.0291,  0.0539,  0.0485,  0.0620,  0.0360,\n",
              "          -0.0262,  0.0308,  0.0315,  0.0442, -0.0481,  0.0073,  0.0227,  0.0161,\n",
              "           0.0136,  0.0167,  0.0151,  0.0195, -0.0272, -0.0412,  0.0587,  0.0365,\n",
              "          -0.0471, -0.0431, -0.0069, -0.0332,  0.0103,  0.0488, -0.0620,  0.0065,\n",
              "           0.0152, -0.0294, -0.0306, -0.0480, -0.0491, -0.0556,  0.0364, -0.0362,\n",
              "          -0.0083,  0.0448, -0.0163,  0.0244, -0.0250,  0.0468,  0.0618,  0.0023,\n",
              "          -0.0020, -0.0205, -0.0592, -0.0411,  0.0526, -0.0323, -0.0129,  0.0290,\n",
              "          -0.0019, -0.0352, -0.0028, -0.0022, -0.0090, -0.0433, -0.0565,  0.0212,\n",
              "          -0.0110,  0.0059, -0.0088, -0.0486,  0.0505, -0.0139,  0.0441, -0.0263,\n",
              "          -0.0398,  0.0469, -0.0324, -0.0522,  0.0451, -0.0449, -0.0274,  0.0143,\n",
              "           0.0489, -0.0002, -0.0250,  0.0570, -0.0470, -0.0211, -0.0210, -0.0452]],\n",
              "        requires_grad=True), Parameter containing:\n",
              " tensor([0.0185], requires_grad=True)]"
            ]
          },
          "metadata": {},
          "execution_count": 141
        }
      ]
    },
    {
      "cell_type": "markdown",
      "metadata": {
        "id": "5dnDbvw0N_No"
      },
      "source": [
        "# Обучим нашу модель"
      ]
    },
    {
      "cell_type": "code",
      "metadata": {
        "id": "O8ayasdLN_Np"
      },
      "source": [
        "# давайте сохранять значения нашей функции потерь каждую итерацию обучения\n",
        "losses = []\n",
        "\n",
        "# эта штука все еще отдает нам батчи данных\n",
        "# мы поговорим про нее позже\n",
        "for x, y in train_loader:\n",
        "\n",
        "    x = x.view(x.shape[0], -1)\n",
        "    y = y.unsqueeze(1).float()\n",
        "    \n",
        "    # обновим наши градиенты\n",
        "    # будем делать это каждую итерацию обучения\n",
        "    # потому что торч сохраняет в себе все градиенты пока не удалите таким образом рассчитанные градиенты\n",
        "    # \n",
        "    # НЕОБЯЗАТЕЛЬНЫЕ ДЕТАЛИ\n",
        "    # функция сохранения градиентов нужна для аккамуляции градиентов\n",
        "    # например, когда нам не хватает памяти на большой батч\n",
        "    # мы можем несколько раз прогнать forward на разных батчах\n",
        "    # наши градиенты будут сохраняться\n",
        "    # и только потом обновить через несколько итераций forward обновить наши веса\n",
        "    # таким образом у нас получается больше батч\n",
        "    # \n",
        "    optimizer.zero_grad()\n",
        "    \n",
        "    # \n",
        "    # предсказание нашей модели\n",
        "    # здесь торч сам сохраняет необходимую информацию\n",
        "    # чтобы понять эту логику у нас как раз и была часть домашки про собственные классы\n",
        "    # \n",
        "    # торч строит динамический граф вычислений\n",
        "    # то есть строит граф по тем операциям, которые вы определили в методе forward\n",
        "    # \n",
        "    # то есть торч понимает, что вы сначала применили линейное преобразование\n",
        "    # знает, где лежат веса для этого линейного преобразования\n",
        "    # знает, что вы затем применили релу\n",
        "    # затем опять линейное преобразование\n",
        "    # затем сигмоиду\n",
        "    # и вот таким образом торч выстроил граф\n",
        "    # который нужен будет для backpropogation\n",
        "    # \n",
        "    pred = model(x)\n",
        "    \n",
        "    # \n",
        "    # рассчитываем функцию потерь, добавляя в наш граф вычислений этот узел\n",
        "    # \n",
        "    loss = criterion(pred, y.float())\n",
        "    \n",
        "    # \n",
        "    # вызываем метод backward() от нашей функции потерь (это крайний узел нашего графа вычислений)\n",
        "    # этот метод проходит от конца графа в начало, вычисляя необходимые градиенты\n",
        "    # передаем градиенты на следующие узлы\n",
        "    # для весов сохраняет\n",
        "    # \n",
        "    # то есть это почти то же самое, что мы делали в домашке с классами\n",
        "    # \n",
        "    loss.backward()\n",
        "    \n",
        "    # \n",
        "    # теперь мы знаем необходимые градиенты и можем обновить веса с помощью градиентного спуска\n",
        "    # \n",
        "    optimizer.step()\n",
        "    \n",
        "    # \n",
        "    # сохраним текущее значение функции потерь, чтобы потом могли посмотреть на график\n",
        "    # очень важный момент: нам нужно отсоединить значение нашей фунции потерь от графа вычислений\n",
        "    # чтобы граф не строился дальше на каждой итерации обучения\n",
        "    # так мы рано или поздно переполним память\n",
        "    # поэтому вызываем этот метод\n",
        "    # работает для скаляров\n",
        "    # \n",
        "    # для тензоров работает метод .tolist()\n",
        "    # \n",
        "    current_loss_value = loss.item()\n",
        "    losses.append(loss.item())"
      ],
      "execution_count": null,
      "outputs": []
    },
    {
      "cell_type": "code",
      "metadata": {
        "id": "KhopLN33N_Nw"
      },
      "source": [
        "# Одна эпоха прошла"
      ],
      "execution_count": null,
      "outputs": []
    },
    {
      "cell_type": "code",
      "metadata": {
        "id": "SIGFnAeMN_Nz",
        "colab": {
          "base_uri": "https://localhost:8080/",
          "height": 555
        },
        "outputId": "c4a9f801-9459-473e-c7fd-4b9646c338e0"
      },
      "source": [
        "plt.figure(figsize=(14, 12))\n",
        "plt.plot(losses)\n",
        "plt.grid()\n",
        "plt.title('Training process')\n",
        "plt.xlabel('Iterations')\n",
        "plt.ylabel('Loss function');"
      ],
      "execution_count": null,
      "outputs": [
        {
          "output_type": "display_data",
          "data": {
            "image/png": "[encoded data removed]",
            "text/plain": [
              "<Figure size 1008x864 with 1 Axes>"
            ]
          },
          "metadata": {
            "needs_background": "light"
          }
        }
      ]
    },
    {
      "cell_type": "markdown",
      "metadata": {
        "id": "8oBFJlYrN_N3"
      },
      "source": [
        "# Теперь мы можем что-то предсказать"
      ]
    },
    {
      "cell_type": "code",
      "metadata": {
        "id": "pYQ-5cXnN_N4"
      },
      "source": [
        "for x, y in test_loader:\n",
        "\n",
        "    x = x.view(x.shape[0], -1)\n",
        "    y = y.unsqueeze(1).float()\n",
        "    \n",
        "    # чтобы не ходить по всему тестовому датасету, прекратим ходить после первой итерации\n",
        "    break"
      ],
      "execution_count": null,
      "outputs": []
    },
    {
      "cell_type": "code",
      "metadata": {
        "id": "Rb3ImXPNN_N_",
        "colab": {
          "base_uri": "https://localhost:8080/"
        },
        "outputId": "9c712b75-eae9-4ede-8f04-db9593772474"
      },
      "source": [
        "x.shape"
      ],
      "execution_count": null,
      "outputs": [
        {
          "output_type": "execute_result",
          "data": {
            "text/plain": [
              "torch.Size([128, 784])"
            ]
          },
          "metadata": {},
          "execution_count": 146
        }
      ]
    },
    {
      "cell_type": "code",
      "metadata": {
        "id": "5V_GO6_zN_OE",
        "colab": {
          "base_uri": "https://localhost:8080/"
        },
        "outputId": "9d36b46e-ace5-4b8a-ba85-54bf9f9832d0"
      },
      "source": [
        "y.shape"
      ],
      "execution_count": null,
      "outputs": [
        {
          "output_type": "execute_result",
          "data": {
            "text/plain": [
              "torch.Size([128, 1])"
            ]
          },
          "metadata": {},
          "execution_count": 147
        }
      ]
    },
    {
      "cell_type": "code",
      "metadata": {
        "id": "_zHM8GRpN_OG",
        "colab": {
          "base_uri": "https://localhost:8080/"
        },
        "outputId": "fa5d6670-de75-4870-a8c0-ecf4882b55e7"
      },
      "source": [
        "# переходим в режим предсказания\n",
        "# \n",
        "# позже в курсе мы разберем зачем конкретно это нужно\n",
        "# \n",
        "# для искушенного нетерпеливого читателя: дропаут больше не дропаутит, батч норм больше не нормирует каждый батч\n",
        "# а использует накопленную статистику при обучении и тд\n",
        "# \n",
        "model.eval()"
      ],
      "execution_count": null,
      "outputs": [
        {
          "output_type": "execute_result",
          "data": {
            "text/plain": [
              "MLP(\n",
              "  (linear_1): Linear(in_features=784, out_features=256, bias=True)\n",
              "  (non_linear_function): ReLU()\n",
              "  (linear_2): Linear(in_features=256, out_features=1, bias=True)\n",
              "  (sigmoid): Sigmoid()\n",
              ")"
            ]
          },
          "metadata": {},
          "execution_count": 148
        }
      ]
    },
    {
      "cell_type": "code",
      "metadata": {
        "id": "CT4N0ZAPN_OI"
      },
      "source": [
        "# этот контект позволяет не сохранять необходимую информацию для рассчета градиентов\n",
        "with torch.no_grad():\n",
        "\n",
        "    pred = model(x)"
      ],
      "execution_count": null,
      "outputs": []
    },
    {
      "cell_type": "code",
      "metadata": {
        "id": "R48ZI_iJN_OK",
        "colab": {
          "base_uri": "https://localhost:8080/"
        },
        "outputId": "960a1a7e-90a7-400e-eed9-1a3e28d4a982"
      },
      "source": [
        "pred.shape"
      ],
      "execution_count": null,
      "outputs": [
        {
          "output_type": "execute_result",
          "data": {
            "text/plain": [
              "torch.Size([128, 1])"
            ]
          },
          "metadata": {},
          "execution_count": 150
        }
      ]
    },
    {
      "cell_type": "code",
      "metadata": {
        "id": "Azbcidg1N_OM"
      },
      "source": [
        "# избавимся от единичной размерности\n",
        "pred = pred.squeeze()\n",
        "y = y.squeeze()"
      ],
      "execution_count": null,
      "outputs": []
    },
    {
      "cell_type": "code",
      "metadata": {
        "id": "L7zm8vzBN_OO",
        "colab": {
          "base_uri": "https://localhost:8080/"
        },
        "outputId": "fd1844e7-f98a-47f9-9d57-210378c0c125"
      },
      "source": [
        "pred.shape"
      ],
      "execution_count": null,
      "outputs": [
        {
          "output_type": "execute_result",
          "data": {
            "text/plain": [
              "torch.Size([128])"
            ]
          },
          "metadata": {},
          "execution_count": 152
        }
      ]
    },
    {
      "cell_type": "code",
      "metadata": {
        "id": "JBARJLDIN_OT"
      },
      "source": [
        "# таким образом из торчовых тензоров мы можем сделать нумпаевские массивы\n",
        "pred = pred.numpy()\n",
        "y = y.numpy()"
      ],
      "execution_count": null,
      "outputs": []
    },
    {
      "cell_type": "code",
      "metadata": {
        "id": "8Y4gi0q7N_OZ",
        "colab": {
          "base_uri": "https://localhost:8080/"
        },
        "outputId": "b7bbed34-3685-4f0e-d55b-aed00eb2f1dc"
      },
      "source": [
        "y"
      ],
      "execution_count": null,
      "outputs": [
        {
          "output_type": "execute_result",
          "data": {
            "text/plain": [
              "array([1., 1., 0., 1., 0., 0., 1., 1., 1., 0., 0., 1., 0., 1., 0., 1., 1.,\n",
              "       0., 1., 1., 1., 1., 0., 0., 0., 1., 1., 0., 1., 1., 1., 1., 1., 0.,\n",
              "       1., 0., 1., 0., 1., 0., 0., 0., 0., 0., 1., 1., 1., 0., 0., 1., 1.,\n",
              "       0., 1., 1., 1., 1., 0., 1., 1., 1., 0., 0., 0., 0., 1., 0., 0., 1.,\n",
              "       0., 0., 1., 0., 1., 0., 0., 1., 0., 0., 1., 1., 1., 1., 0., 1., 0.,\n",
              "       0., 0., 0., 0., 0., 1., 1., 0., 1., 0., 0., 0., 1., 0., 1., 0., 0.,\n",
              "       0., 0., 0., 1., 1., 1., 1., 0., 0., 0., 0., 0., 0., 1., 1., 0., 0.,\n",
              "       1., 0., 1., 1., 0., 1., 0., 0., 1.], dtype=float32)"
            ]
          },
          "metadata": {},
          "execution_count": 154
        }
      ]
    },
    {
      "cell_type": "code",
      "metadata": {
        "id": "QPlZdMfiN_Og",
        "colab": {
          "base_uri": "https://localhost:8080/"
        },
        "outputId": "00f05cb9-2f3a-4a7b-ffbd-185ba24cac31"
      },
      "source": [
        "type(y)"
      ],
      "execution_count": null,
      "outputs": [
        {
          "output_type": "execute_result",
          "data": {
            "text/plain": [
              "numpy.ndarray"
            ]
          },
          "metadata": {},
          "execution_count": 155
        }
      ]
    },
    {
      "cell_type": "code",
      "metadata": {
        "id": "Ck7Voa7HN_Ok"
      },
      "source": [
        "# бинаризируем наши предсказания\n",
        "pred[pred > 0.5] = 1\n",
        "pred[pred <= 0.5] = 0"
      ],
      "execution_count": null,
      "outputs": []
    },
    {
      "cell_type": "code",
      "metadata": {
        "id": "Ts85uzXFN_Om",
        "colab": {
          "base_uri": "https://localhost:8080/"
        },
        "outputId": "e5728ed7-2de5-44c4-eecf-ae72434176ee"
      },
      "source": [
        "# посчитаем метрику на батче\n",
        "accuracy_score(y, pred)"
      ],
      "execution_count": null,
      "outputs": [
        {
          "output_type": "execute_result",
          "data": {
            "text/plain": [
              "0.96875"
            ]
          },
          "metadata": {},
          "execution_count": 157
        }
      ]
    },
    {
      "cell_type": "code",
      "metadata": {
        "id": "yoynJ1-2N_Op"
      },
      "source": [
        "# заново определим нашу модель и выучимся несколько эпох\n",
        "# будут уже новые параметры\n",
        "model = MLP(in_features=784, inner_features=256, out_features=1)\n",
        "\n",
        "criterion = torch.nn.BCELoss()\n",
        "# мы позже поговорим про этот оптимизационный алгоритм\n",
        "optimizer = torch.optim.Adam(params=model.parameters())"
      ],
      "execution_count": null,
      "outputs": []
    },
    {
      "cell_type": "markdown",
      "metadata": {
        "id": "hzBgaRe7N_Os"
      },
      "source": [
        "# Типичный цикл обучения с кучей сохранений лоссов"
      ]
    },
    {
      "cell_type": "code",
      "metadata": {
        "id": "1zO6ruQbN_Ot",
        "colab": {
          "base_uri": "https://localhost:8080/"
        },
        "outputId": "d1c2faf5-3fda-42a9-d588-cacf72de8f71"
      },
      "source": [
        "epochs = 10\n",
        "losses = []\n",
        "# нужно для early stopping, то есть трекать лучший лосс на валидации\n",
        "best_test_loss = 10.\n",
        "\n",
        "for n_epoch in range(epochs):\n",
        "    \n",
        "    train_losses = []\n",
        "    test_losses = []\n",
        "    test_preds = []\n",
        "    test_targets = []\n",
        "    \n",
        "    progress_bar = tqdm(total=len(train_loader.dataset), desc='Epoch {}'.format(n_epoch + 1))\n",
        "    \n",
        "    for x, y in train_loader:\n",
        "        \n",
        "        x = x.view(x.shape[0], -1)\n",
        "        y = y.unsqueeze(1).float()\n",
        "        \n",
        "        optimizer.zero_grad()\n",
        "        \n",
        "        pred = model(x)\n",
        "        \n",
        "        loss = criterion(pred, y.float())\n",
        "        \n",
        "        loss.backward()\n",
        "        \n",
        "        optimizer.step()\n",
        "        \n",
        "        train_losses.append(loss.item())\n",
        "        losses.append(loss.item())\n",
        "        \n",
        "        progress_bar.set_postfix(train_loss = np.mean(losses[-100:]))\n",
        "\n",
        "        progress_bar.update(x.shape[0])\n",
        "        \n",
        "    progress_bar.close()\n",
        "    \n",
        "    for x, y in test_loader:\n",
        "        \n",
        "        x = x.view(x.shape[0], -1)\n",
        "        y = y.unsqueeze(1).float()\n",
        "\n",
        "        with torch.no_grad():\n",
        "            \n",
        "            pred = model(x)\n",
        "            \n",
        "        test_preds.append(pred.numpy())\n",
        "        test_targets.append(y.numpy())\n",
        "\n",
        "        loss = criterion(pred, y)\n",
        "\n",
        "        test_losses.append(loss.item())\n",
        "        \n",
        "    mean_test_loss = np.mean(test_losses)\n",
        "        \n",
        "    print('Losses: train - {:.3f}, test = {:.3f}'.format(np.mean(train_losses), mean_test_loss))\n",
        "    \n",
        "    test_preds = np.concatenate(test_preds)\n",
        "    test_preds = test_preds.squeeze()\n",
        "    test_targets = np.concatenate(test_targets).squeeze()\n",
        "    \n",
        "    test_preds[test_preds > 0.5] = 1\n",
        "    test_preds[test_preds <= 0.5] = 0\n",
        "    \n",
        "    accurary = accuracy_score(test_targets, test_preds)\n",
        "\n",
        "    print('Test: accuracy - {:.3f}'.format(accurary))\n",
        "        \n",
        "    # как раз early stopping\n",
        "    # то есть: если наша функция потерь на валидационном датасете стала расти, то прекращаем обучение\n",
        "    # рост фунции потерь на валидационном датасете говорит о переобучении\n",
        "    # пожалуй, самый популярный метод валидации для нейронных сетей\n",
        "    if mean_test_loss < best_test_loss:\n",
        "        best_test_loss = mean_test_loss\n",
        "    else:\n",
        "        print('Early stopping')\n",
        "        break    "
      ],
      "execution_count": null,
      "outputs": [
        {
          "output_type": "stream",
          "name": "stderr",
          "text": [
            "Epoch 1:  99%|█████████▉| 12288/12396 [00:03<00:00, 3959.63it/s, train_loss=0.0673]\n"
          ]
        },
        {
          "output_type": "stream",
          "name": "stdout",
          "text": [
            "Losses: train - 0.067, test = 0.044\n",
            "Test: accuracy - 0.985\n"
          ]
        },
        {
          "output_type": "stream",
          "name": "stderr",
          "text": [
            "Epoch 2:  99%|█████████▉| 12288/12396 [00:03<00:00, 4065.49it/s, train_loss=0.0254]\n"
          ]
        },
        {
          "output_type": "stream",
          "name": "stdout",
          "text": [
            "Losses: train - 0.026, test = 0.031\n",
            "Test: accuracy - 0.988\n"
          ]
        },
        {
          "output_type": "stream",
          "name": "stderr",
          "text": [
            "Epoch 3:  99%|█████████▉| 12288/12396 [00:03<00:00, 3975.29it/s, train_loss=0.0162]\n"
          ]
        },
        {
          "output_type": "stream",
          "name": "stdout",
          "text": [
            "Losses: train - 0.016, test = 0.029\n",
            "Test: accuracy - 0.991\n"
          ]
        },
        {
          "output_type": "stream",
          "name": "stderr",
          "text": [
            "Epoch 4:  99%|█████████▉| 12288/12396 [00:03<00:00, 4062.73it/s, train_loss=0.0101]\n"
          ]
        },
        {
          "output_type": "stream",
          "name": "stdout",
          "text": [
            "Losses: train - 0.010, test = 0.023\n",
            "Test: accuracy - 0.992\n"
          ]
        },
        {
          "output_type": "stream",
          "name": "stderr",
          "text": [
            "Epoch 5:  99%|█████████▉| 12288/12396 [00:03<00:00, 3999.84it/s, train_loss=0.00748]\n"
          ]
        },
        {
          "output_type": "stream",
          "name": "stdout",
          "text": [
            "Losses: train - 0.008, test = 0.020\n",
            "Test: accuracy - 0.994\n"
          ]
        },
        {
          "output_type": "stream",
          "name": "stderr",
          "text": [
            "Epoch 6:  99%|█████████▉| 12288/12396 [00:03<00:00, 4077.49it/s, train_loss=0.00592]\n"
          ]
        },
        {
          "output_type": "stream",
          "name": "stdout",
          "text": [
            "Losses: train - 0.006, test = 0.017\n",
            "Test: accuracy - 0.993\n"
          ]
        },
        {
          "output_type": "stream",
          "name": "stderr",
          "text": [
            "Epoch 7:  99%|█████████▉| 12288/12396 [00:03<00:00, 4014.47it/s, train_loss=0.00333]\n"
          ]
        },
        {
          "output_type": "stream",
          "name": "stdout",
          "text": [
            "Losses: train - 0.003, test = 0.020\n",
            "Test: accuracy - 0.993\n",
            "Early stopping\n"
          ]
        }
      ]
    },
    {
      "cell_type": "code",
      "metadata": {
        "id": "U4URcBJPN_Ow",
        "colab": {
          "base_uri": "https://localhost:8080/",
          "height": 553
        },
        "outputId": "c4ad010f-f87f-4ec7-f5b9-73ffc7259244"
      },
      "source": [
        "plt.figure(figsize=(14, 12))\n",
        "plt.plot(losses)\n",
        "plt.grid()\n",
        "plt.title('Training process')\n",
        "plt.xlabel('Iterations')\n",
        "plt.ylabel('Loss function');"
      ],
      "execution_count": null,
      "outputs": [
        {
          "output_type": "display_data",
          "data": {
            "image/png": "[encoded data removed]",
            "text/plain": [
              "<Figure size 1008x864 with 1 Axes>"
            ]
          },
          "metadata": {
            "needs_background": "light"
          }
        }
      ]
    },
    {
      "cell_type": "code",
      "metadata": {
        "id": "httYrkEehx78"
      },
      "source": [
        ""
      ],
      "execution_count": null,
      "outputs": []
    }
  ]
}